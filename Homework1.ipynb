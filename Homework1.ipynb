{
 "cells": [
  {
   "cell_type": "code",
   "execution_count": 9,
   "id": "5b3276a3-8694-440d-a7f9-eb1cfa2b01eb",
   "metadata": {},
   "outputs": [
    {
     "ename": "ValueError",
     "evalue": "invalid literal for int() with base 10: '\\n'",
     "output_type": "error",
     "traceback": [
      "\u001b[0;31m---------------------------------------------------------------------------\u001b[0m",
      "\u001b[0;31mValueError\u001b[0m                                Traceback (most recent call last)",
      "Cell \u001b[0;32mIn[9], line 22\u001b[0m\n\u001b[1;32m     18\u001b[0m     \u001b[38;5;28;01mreturn\u001b[39;00m N_c\n\u001b[1;32m     21\u001b[0m f \u001b[38;5;241m=\u001b[39m \u001b[38;5;28mopen\u001b[39m(\u001b[38;5;124m'\u001b[39m\u001b[38;5;124m/Users/yeakki/Desktop/text.txt\u001b[39m\u001b[38;5;124m'\u001b[39m, \u001b[38;5;124m'\u001b[39m\u001b[38;5;124mr\u001b[39m\u001b[38;5;124m'\u001b[39m)\n\u001b[0;32m---> 22\u001b[0m a1, b1 \u001b[38;5;241m=\u001b[39m \u001b[38;5;28mmap\u001b[39m(\u001b[38;5;28mint\u001b[39m, f\u001b[38;5;241m.\u001b[39mreadline()\u001b[38;5;241m.\u001b[39msplit(\u001b[38;5;124m'\u001b[39m\u001b[38;5;124m \u001b[39m\u001b[38;5;124m'\u001b[39m))\n\u001b[1;32m     23\u001b[0m zn \u001b[38;5;241m=\u001b[39m \u001b[38;5;28mstr\u001b[39m(f\u001b[38;5;241m.\u001b[39mreadline())\n\u001b[1;32m     24\u001b[0m sis \u001b[38;5;241m=\u001b[39m \u001b[38;5;28mint\u001b[39m(f\u001b[38;5;241m.\u001b[39mreadline())\n",
      "\u001b[0;31mValueError\u001b[0m: invalid literal for int() with base 10: '\\n'"
     ]
    }
   ],
   "source": [
    "def perev_b_10 ( N, b ):\n",
    "    N_10 = 0\n",
    "    i_10 = 0\n",
    "    while N > 0:\n",
    "        N_10 += b ** i_10 * ( N % 10 )\n",
    "        N = N // 10\n",
    "        i_10 += 1\n",
    "    return N_10\n",
    "\n",
    "def perev_10_c ( N_10, c):    \n",
    "    N_c = 0\n",
    "    i_c = 0\n",
    "    print(N_10)\n",
    "    while N_10 > 0:\n",
    "        N_c += 10 ** i_c * ( N_10 % c )\n",
    "        N_10 = N_10 // c\n",
    "        i_c += 1\n",
    "    return N_c\n",
    "\n",
    "\n",
    "f = open('/Users/yeakki/Desktop/text.txt', 'r')\n",
    "a1, b1 = map(int, f.readline().split(' '))\n",
    "zn = str(f.readline())\n",
    "sis = int(f.readline())\n",
    "\n",
    "K = 0 \n",
    "a = perev_b_10 ( a1, sis )\n",
    "b = perev_b_10 ( b1, sis )\n",
    "\n",
    "if zn == '+':\n",
    "    K = a + b\n",
    "elif zn == '-':\n",
    "    K = a - b\n",
    "elif zn == '*':\n",
    "    K = a * b\n",
    "    \n",
    "f.close()\n",
    "\n",
    "q = open('output.txt', 'w')\n",
    "q.write(perev_10_c( K, sis ))"
   ]
  },
  {
   "cell_type": "code",
   "execution_count": null,
   "id": "099480d8-2e90-4aed-9317-72483cf5b2bd",
   "metadata": {},
   "outputs": [],
   "source": []
  }
 ],
 "metadata": {
  "kernelspec": {
   "display_name": "Python [conda env:base] *",
   "language": "python",
   "name": "conda-base-py"
  },
  "language_info": {
   "codemirror_mode": {
    "name": "ipython",
    "version": 3
   },
   "file_extension": ".py",
   "mimetype": "text/x-python",
   "name": "python",
   "nbconvert_exporter": "python",
   "pygments_lexer": "ipython3",
   "version": "3.13.5"
  }
 },
 "nbformat": 4,
 "nbformat_minor": 5
}
