{
 "cells": [
  {
   "cell_type": "code",
   "execution_count": 2,
   "id": "9b3df1c3-15ae-469a-ab7b-8e542a59c674",
   "metadata": {},
   "outputs": [
    {
     "name": "stdout",
     "output_type": "stream",
     "text": [
      "8\n"
     ]
    }
   ],
   "source": [
    "#Задание №1\n",
    "def fib(N, c = {0:0, 1:1}):\n",
    "    if N in c:\n",
    "        return(c[N])\n",
    "    else:\n",
    "        c[N-1] = fib(N-1)\n",
    "        c[N-2] = fib(N-2)\n",
    "        return fib(N-1, c) + fib(N-2, c)\n",
    "print(fib(6))"
   ]
  },
  {
   "cell_type": "code",
   "execution_count": 3,
   "id": "4f704262-ca7b-44b3-9a49-abc4fd39b8ff",
   "metadata": {},
   "outputs": [
    {
     "name": "stdin",
     "output_type": "stream",
     "text": [
      " 55\n"
     ]
    },
    {
     "name": "stdout",
     "output_type": "stream",
     "text": [
      "[5, 11]\n"
     ]
    }
   ],
   "source": [
    "#Задание №2\n",
    "n = int(input())\n",
    "mn = []\n",
    "def prost(n):\n",
    "    if n != 1:\n",
    "        for i in range(2, n+1):\n",
    "            if n % i == 0:\n",
    "                mn.append(i)\n",
    "                prost(n//i)\n",
    "                break\n",
    "prost(n)\n",
    "print(mn)"
   ]
  },
  {
   "cell_type": "code",
   "execution_count": 35,
   "id": "0b4fbecf-774c-41b0-8359-c7deeec03f83",
   "metadata": {
    "scrolled": true
   },
   "outputs": [
    {
     "name": "stdin",
     "output_type": "stream",
     "text": [
      " 17\n",
      " 17\n"
     ]
    },
    {
     "name": "stdout",
     "output_type": "stream",
     "text": [
      "0 1 17\n"
     ]
    }
   ],
   "source": [
    "#Задание №3\n",
    "def gcd(a, b):\n",
    "    if a == 0 or b == 0: \n",
    "         return max(a, b)\n",
    "    else:\n",
    "        if a > b:\n",
    "            return gcd(a - b, b)\n",
    "        else:\n",
    "            return gcd(a, b - a)\n",
    "\n",
    "def ads(a):\n",
    "    if a < 0:\n",
    "        a = -a\n",
    "    return a\n",
    "\n",
    "a, b = int(input()), int(input())\n",
    "g = gcd(a, b)\n",
    "s = 99999\n",
    "for i in range(-a, a):\n",
    "    for q in range(-b, b):\n",
    "        if i*a+q*b == g:\n",
    "            if ( ads(i) + ads(q) ) < s:\n",
    "                i_1 = i\n",
    "                q_1 = q\n",
    "                s = ads(i) + ads(q)\n",
    "            elif ( ads(i) + ads(q) ) == s and i < i_1:\n",
    "                i_1 = i\n",
    "                q_1 = q\n",
    "                s = ads(i) + ads(q)\n",
    "print(i_1, q_1, g)"
   ]
  },
  {
   "cell_type": "code",
   "execution_count": 15,
   "id": "ffc5caf3-d7b8-4a26-b612-bbe17906db89",
   "metadata": {},
   "outputs": [
    {
     "name": "stdin",
     "output_type": "stream",
     "text": [
      " 9\n",
      " с\n"
     ]
    },
    {
     "name": "stdout",
     "output_type": "stream",
     "text": [
      "с\n",
      "сс\n",
      "ссс\n",
      "сссс\n",
      "ссссс\n",
      "сссс\n",
      "ссс\n",
      "сс\n",
      "с\n"
     ]
    }
   ],
   "source": [
    "#Задание №4\n",
    "size = int(input())\n",
    "symb = str(input())\n",
    "\n",
    "for i in range(1, size//2+(size%2)+1):\n",
    "    print(symb*i)\n",
    "for q in range(size//2, 0, -1):\n",
    "    print(symb*q)"
   ]
  },
  {
   "cell_type": "code",
   "execution_count": 4,
   "id": "fb704eb1-7412-4f84-90e0-91a4ff6f6749",
   "metadata": {},
   "outputs": [
    {
     "name": "stdin",
     "output_type": "stream",
     "text": [
      " 5\n",
      " 6\n"
     ]
    },
    {
     "name": "stdout",
     "output_type": "stream",
     "text": [
      "[[ 1.  2.  3.  4.  5.  6.]\n",
      " [18. 19. 20. 21. 22.  7.]\n",
      " [17. 28. 29. 30. 23.  8.]\n",
      " [16. 27. 26. 25. 24.  9.]\n",
      " [15. 14. 13. 12. 11. 10.]]\n"
     ]
    }
   ],
   "source": [
    "#Задание №5\n",
    "import numpy as np\n",
    "def sm(N, M):\n",
    "    left, top, bottom, right = 0, 0, N, M\n",
    "    res = np.zeros((N, M))\n",
    "\n",
    "    num = 1\n",
    "    while left < right and top < bottom:\n",
    "        res[top, left:right] = np.arange( num, num + right - left)\n",
    "        num += right - left\n",
    "\n",
    "        top += 1\n",
    "        res[top:bottom, right - 1] = np.arange( num, num+bottom - top)\n",
    "        num += bottom - top\n",
    "        right -= 1\n",
    "\n",
    "        if not (left < right and top < bottom):\n",
    "            break\n",
    "\n",
    "        res[bottom - 1, left:right][::-1] = np.arange(num, num + right - left)\n",
    "        num += right - left\n",
    "        bottom -= 1\n",
    "\n",
    "        res[top:bottom, left][::-1] = np. arange(num, num + bottom - top)\n",
    "        num += bottom - top\n",
    "        left += 1\n",
    "    return res\n",
    "   \n",
    "N, M = int(input()), int(input())\n",
    "print(sm(N, M))"
   ]
  },
  {
   "cell_type": "code",
   "execution_count": 1,
   "id": "9889cc33-8edc-40f0-a3b7-846a03f45212",
   "metadata": {},
   "outputs": [
    {
     "name": "stdout",
     "output_type": "stream",
     "text": [
      "(np.float64(1.507352941176471), np.float64(-0.2058823529411784))\n"
     ]
    }
   ],
   "source": [
    "#Задание №6\n",
    "import numpy as np\n",
    "\n",
    "def MNK(x, y):\n",
    "    x_mean = np.mean(x)\n",
    "    y_mean = np.mean(y)\n",
    "\n",
    "    m = np.sum((x - x_mean) * (y - y_mean))/np.sum((x - x_mean)**2)\n",
    "    b = y_mean - m * x_mean\n",
    "    return m, b\n",
    "\n",
    "#Пример\n",
    "a = [1, 3, 5, 6, 8, 9]\n",
    "b = [2, 4, 7, 8, 12, 14]\n",
    "print(MNK(a, b))"
   ]
  }
 ],
 "metadata": {
  "kernelspec": {
   "display_name": "Python [conda env:base] *",
   "language": "python",
   "name": "conda-base-py"
  },
  "language_info": {
   "codemirror_mode": {
    "name": "ipython",
    "version": 3
   },
   "file_extension": ".py",
   "mimetype": "text/x-python",
   "name": "python",
   "nbconvert_exporter": "python",
   "pygments_lexer": "ipython3",
   "version": "3.13.5"
  }
 },
 "nbformat": 4,
 "nbformat_minor": 5
}
