{
 "cells": [
  {
   "cell_type": "code",
   "execution_count": 5,
   "id": "94fba476-6080-4f09-9bbf-154145d450ee",
   "metadata": {},
   "outputs": [
    {
     "name": "stdin",
     "output_type": "stream",
     "text": [
      " 5\n",
      " 1\n",
      " 2\n",
      " 4\n",
      " 5\n"
     ]
    },
    {
     "name": "stdout",
     "output_type": "stream",
     "text": [
      "3\n"
     ]
    }
   ],
   "source": [
    "#Задача №1\n",
    "a = int(input())\n",
    "s = 0\n",
    "N = 0\n",
    "for i in range(1,a):\n",
    "    s += int(input())\n",
    "    N += i\n",
    "N += a\n",
    "print( N - s )"
   ]
  },
  {
   "cell_type": "code",
   "execution_count": 7,
   "id": "1db5c1dd-0731-4976-987b-4f8e3000cdc0",
   "metadata": {},
   "outputs": [
    {
     "name": "stdin",
     "output_type": "stream",
     "text": [
      " 6 AB0TAEL0ANANAB0EVO0SANAN\n"
     ]
    },
    {
     "name": "stdout",
     "output_type": "stream",
     "text": [
      "EAT0BANANA0LOVE0BANANAS0\n"
     ]
    }
   ],
   "source": [
    "#Задача №2\n",
    "n, F = input().split()\n",
    "n = int(n)\n",
    "n_len = len(F) // n\n",
    "res = ''\n",
    "for i in range(0, len(F), n):\n",
    "    res += F[i: i + n][::-1]\n",
    "print(res)"
   ]
  },
  {
   "cell_type": "code",
   "execution_count": 51,
   "id": "496d787e-b1ea-4517-a00d-c7960ce55b23",
   "metadata": {},
   "outputs": [
    {
     "name": "stdin",
     "output_type": "stream",
     "text": [
      " EA3\n"
     ]
    },
    {
     "name": "stdout",
     "output_type": "stream",
     "text": [
      "['E', 'A', '3'] is a mirrored string.\n"
     ]
    }
   ],
   "source": [
    "#Задача №3\n",
    "n = input()\n",
    "n = list(n)\n",
    "sum = 0\n",
    "for i in range(0, len(n)):\n",
    "    if ((len(n) % 2 == 0) or (len(n) % 2 == 1 and i != (len(n) // 2 ))) and (n[i] == n[len(n)-i-1] == 'A' or n[i] == n[len(n)-i-1] == 'H' or n[i] == n[len(n)-i-1] == 'I' or n[i] == n[len(n)-i-1] == 'M' or n[i] == n[len(n)-i-1] == 'T' or n[i] == n[len(n)-i-1] == 'O' or n[i] == n[len(n)-i-1] == 'U' or n[i] == n[len(n)-i-1] == 'V' or n[i] == n[len(n)-i-1] == 'W' or n[i] == n[len(n)-i-1] == 'X' or n[i] == n[len(n)-i-1] == 'Y' or n[i] == n[len(n)-i-1] == '1' or n[i] == n[len(n)-i-1] == '8'):\n",
    "        sum += 1\n",
    "    elif (i == ( len(n) // 2 ) and (len(n) % 2 == 1)) and ( sum == len(n) // 2) :\n",
    "        if (n[i] == 'A' or n[i] == 'H' or n[i] == 'I' or n[i] == 'M' or n[i] == 'T' or n[i] == 'O' or n[i] == 'U' or n[i] == 'V' or n[i] == 'W' or n[i] == 'X' or n[i] == 'Y' or n[i] =='1' or n[i] == '8'):\n",
    "            a = 1 #при a = 1 будет mirrored palindrome\n",
    "            sum += 1\n",
    "        else:\n",
    "            a = 2 #при a = 2 будет regular palindrome\n",
    "            sum += 1\n",
    "    elif (n[i] == 'E' and n[len(n) - i - 1] == '3') or (n[i] == 'J' and n[len(n) - i - 1] == 'L') or (n[i] == 'S' or n[len(n) - i - 1] == '2') and (n[i] == 'Z' or n[len(n) - i - 1] == '5') or (n[i] == '3' and n[len(n) - i - 1] == 'E') or (n[i] == 'L' and n[len(n) - i - 1] == 'J') or (n[i] == '2' or n[len(n) - i - 1] == 'S') and (n[i] == '5' or n[len(n) - i - 1] == 'Z'):\n",
    "        sum += 1\n",
    "        b = 1\n",
    "if (sum == len(n)) and a == 1 and b != 1:\n",
    "    print(n, 'is a mirrored palindrome.')\n",
    "elif ( sum == len(n)) and a == 2 and b != 1:\n",
    "    print(n, 'is a regular palindrome.')\n",
    "elif ( sum == len(n)) and b == 1:\n",
    "    print(n, 'is a mirrored string.')\n",
    "else:\n",
    "    print(n, 'is not a palindrome.')"
   ]
  },
  {
   "cell_type": "code",
   "execution_count": 61,
   "id": "9650244a-4d5c-4e3d-a26c-a2eb67eb2847",
   "metadata": {},
   "outputs": [
    {
     "name": "stdin",
     "output_type": "stream",
     "text": [
      " 1 2 3 4 5\n"
     ]
    },
    {
     "name": "stdout",
     "output_type": "stream",
     "text": [
      "['2', '1', '4', '3', '5']\n"
     ]
    }
   ],
   "source": [
    "#Задача №4\n",
    "n = input().split()\n",
    "n[:-1:2],n[1::2] = n[1::2],n[:-1:2] \n",
    "print(n)"
   ]
  },
  {
   "cell_type": "code",
   "execution_count": 66,
   "id": "95ed6f92-3971-4c1c-a0c8-b70f8699efe1",
   "metadata": {},
   "outputs": [
    {
     "name": "stdin",
     "output_type": "stream",
     "text": [
      " 1 2 3 4 5\n"
     ]
    },
    {
     "name": "stdout",
     "output_type": "stream",
     "text": [
      "5['1', '2', '3', '4']\n"
     ]
    }
   ],
   "source": [
    "#Задача №5\n",
    "a = input().split()\n",
    "print( str(a[-1]) + str(a[:-1]))"
   ]
  },
  {
   "cell_type": "code",
   "execution_count": 70,
   "id": "53b6d43a-faa6-46f2-b48b-64b97519ea14",
   "metadata": {},
   "outputs": [
    {
     "name": "stdin",
     "output_type": "stream",
     "text": [
      " 1 2 2 4 3 4 5 5\n"
     ]
    },
    {
     "name": "stdout",
     "output_type": "stream",
     "text": [
      "1\n",
      "3\n"
     ]
    }
   ],
   "source": [
    "#Задача №6\n",
    "a = input().split()\n",
    "for i in range(len(a)):\n",
    "    s = 0\n",
    "    for j in range(len(a)):\n",
    "        if a[i] == a[j]:\n",
    "            s += 1\n",
    "    if s == 1:\n",
    "        print(a[i])"
   ]
  },
  {
   "cell_type": "code",
   "execution_count": 74,
   "id": "9b5ba04c-17d0-4980-82e0-124a34b37124",
   "metadata": {
    "scrolled": true
   },
   "outputs": [
    {
     "name": "stdin",
     "output_type": "stream",
     "text": [
      " 1 2 3 3 2 4 3 2\n"
     ]
    },
    {
     "name": "stdout",
     "output_type": "stream",
     "text": [
      "2\n"
     ]
    }
   ],
   "source": [
    "#Задача №7\n",
    "a = input().split()\n",
    "for i in range(len(a)):\n",
    "    s = 0\n",
    "    n = 0\n",
    "    for j in range(len(a)):\n",
    "        if a[i] == a[j]:\n",
    "            s += 1\n",
    "    if ( s > n ):\n",
    "        n = s\n",
    "        a_max = a[i]\n",
    "print(a_max)"
   ]
  },
  {
   "cell_type": "code",
   "execution_count": 88,
   "id": "1b2ec963-4611-45ce-bde1-f7daba0145b6",
   "metadata": {},
   "outputs": [
    {
     "name": "stdin",
     "output_type": "stream",
     "text": [
      " 5 3 1 2 5 4\n"
     ]
    },
    {
     "name": "stdout",
     "output_type": "stream",
     "text": [
      "3\n"
     ]
    }
   ],
   "source": [
    "#Задача №8\n",
    "G = input().split()\n",
    "N = G[0]\n",
    "a = ''.join(G[1:])\n",
    "med = len(a) // 2 + 1\n",
    "for i in range(a_len):\n",
    "    s = 0\n",
    "    for j in range(a_len):\n",
    "        if a[i] >= a[j]:\n",
    "            s += 1\n",
    "    if s == med:\n",
    "        print(a[i])"
   ]
  },
  {
   "cell_type": "code",
   "execution_count": 109,
   "id": "305f468a-6354-4178-b20c-37cc9adfd6f7",
   "metadata": {},
   "outputs": [
    {
     "name": "stdout",
     "output_type": "stream",
     "text": [
      "5\n"
     ]
    }
   ],
   "source": [
    "#Задача №9\n",
    "with open(\"input.txt\", \"r\") as f:\n",
    "    textf = f.read()\n",
    "text = list(textf)\n",
    "s = 0\n",
    "for i in range(len(text)):\n",
    "    if ( text[i] == '.' and text[i-1] == '.' and text[i+1] == '.' ) or ( text[i] == '.' and text[i - 1] != '.' and text[i+1] != '.' ) or (text[i] == '?' and text[i+1] != '!') or (text[i] == '!' and text[i+1] != '?'):\n",
    "        s += 1\n",
    "print(s)"
   ]
  },
  {
   "cell_type": "code",
   "execution_count": 111,
   "id": "ca55e828-eb30-4a1e-b2bd-c9f2674993f8",
   "metadata": {},
   "outputs": [
    {
     "name": "stdout",
     "output_type": "stream",
     "text": [
      "просососо косолесесосо мясясосо ласассосо сесерсосо\n"
     ]
    }
   ],
   "source": [
    "#Задача №10 \n",
    "with open(\"input.txt\", \"r\") as f:\n",
    "    textf = f.read()\n",
    "text = list(textf)\n",
    "i = 0\n",
    "result = ''\n",
    "while i < len(text):\n",
    "    c = text[i]\n",
    "    result += c\n",
    "    if c in 'аеёиоуыэюя':\n",
    "        if i == 0:\n",
    "            result += 'с' + c\n",
    "        else:\n",
    "            c_0 = text[i-1]\n",
    "            if c_0 not in 'аеёиоуыэюяa':\n",
    "                result += 'с' + c\n",
    "            else:\n",
    "                if i < len(text) - 1:\n",
    "                    c_1 = text[i+1]\n",
    "                    if c_1 not in 'аеёиоуыэюя':\n",
    "                        result += 'с' + c\n",
    "    i += 1\n",
    "print(result)"
   ]
  }
 ],
 "metadata": {
  "kernelspec": {
   "display_name": "Python [conda env:base] *",
   "language": "python",
   "name": "conda-base-py"
  },
  "language_info": {
   "codemirror_mode": {
    "name": "ipython",
    "version": 3
   },
   "file_extension": ".py",
   "mimetype": "text/x-python",
   "name": "python",
   "nbconvert_exporter": "python",
   "pygments_lexer": "ipython3",
   "version": "3.13.5"
  }
 },
 "nbformat": 4,
 "nbformat_minor": 5
}
